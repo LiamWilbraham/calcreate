{
 "cells": [
  {
   "cell_type": "code",
   "execution_count": 1,
   "metadata": {
    "collapsed": true
   },
   "outputs": [],
   "source": [
    "import sys\n",
    "sys.path.append(\"../\")\n",
    "\n",
    "from calcreate import Gaussian, Turbomole"
   ]
  },
  {
   "cell_type": "code",
   "execution_count": 2,
   "metadata": {
    "collapsed": true
   },
   "outputs": [],
   "source": [
    "inp = Gaussian('test', 'c1ccccc1', kwds=['opt', 'td=(nstates=10)'])\n",
    "inp.generate_input()"
   ]
  },
  {
   "cell_type": "markdown",
   "metadata": {},
   "source": [
    "* add turbomole stuff"
   ]
  },
  {
   "cell_type": "code",
   "execution_count": 3,
   "metadata": {},
   "outputs": [
    {
     "name": "stdout",
     "output_type": "stream",
     "text": [
      "a coord\n",
      "ired\n",
      "*\n",
      "eht\n",
      "\n",
      "0\n",
      "\n",
      "\n",
      "scf\n",
      "iter\n",
      "300\n",
      "\n",
      "dft\n",
      "on\n",
      "func pbe-pbe\n",
      "\n",
      "*\n",
      "\n",
      "\n"
     ]
    }
   ],
   "source": [
    "inp = Turbomole('test', 'c1ccccc1')\n",
    "inp.generate_input()"
   ]
  },
  {
   "cell_type": "code",
   "execution_count": 13,
   "metadata": {},
   "outputs": [],
   "source": [
    "with open('./xyz') as f:\n",
    "    x = f.readlines()[:-1]\n",
    "x += '$cosmo\\n{}\\n$end'.format(10)    \n",
    "with open('test2.txt', 'w') as f:\n",
    "    f.write(''.join(x))"
   ]
  },
  {
   "cell_type": "code",
   "execution_count": null,
   "metadata": {
    "collapsed": true
   },
   "outputs": [],
   "source": []
  }
 ],
 "metadata": {
  "kernelspec": {
   "display_name": "Python 3",
   "language": "python",
   "name": "python3"
  },
  "language_info": {
   "codemirror_mode": {
    "name": "ipython",
    "version": 3
   },
   "file_extension": ".py",
   "mimetype": "text/x-python",
   "name": "python",
   "nbconvert_exporter": "python",
   "pygments_lexer": "ipython3",
   "version": "3.6.3"
  }
 },
 "nbformat": 4,
 "nbformat_minor": 2
}
